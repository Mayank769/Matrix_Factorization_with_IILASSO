{
 "cells": [
  {
   "cell_type": "code",
   "execution_count": 1,
   "metadata": {},
   "outputs": [],
   "source": [
    "#importing required library\n",
    "import numpy as np \n",
    "import math\n",
    "import matplotlib.pyplot as plt\n",
    "import pandas as pd"
   ]
  },
  {
   "cell_type": "code",
   "execution_count": 2,
   "metadata": {},
   "outputs": [],
   "source": [
    "def Lasso_Term(P):\n",
    "    return sum(sum(np.absolute(P)))"
   ]
  },
  {
   "cell_type": "code",
   "execution_count": 3,
   "metadata": {},
   "outputs": [],
   "source": [
    "def Ridge_Term(P):\n",
    "    return sum(sum(np.square(P)))"
   ]
  },
  {
   "cell_type": "code",
   "execution_count": 4,
   "metadata": {},
   "outputs": [],
   "source": [
    "# Calculating Lasso Term for updating parameter\n",
    "# P -> Feature Matrix of Movie or User\n",
    "# X -> Similarity Matrix of Movie or User\n",
    "# i -> Ith Movie or User\n",
    "# K -> Number of Features\n",
    "# M -> Number of Movies or User\n",
    "def IILasso_Term(P,X,i,K,M):\n",
    "    sums=0;\n",
    "    for j in range(K):\n",
    "        for l in range(M):\n",
    "            if(l==i):    #If both are equal then leave\n",
    "                continue\n",
    "            sums+=(abs(P[l][j]) * X[l][i])\n",
    "            sums+=(X[i][l] * abs(P[l][j]))\n",
    "    return sums"
   ]
  },
  {
   "cell_type": "code",
   "execution_count": 5,
   "metadata": {},
   "outputs": [],
   "source": [
    "# Calculating Lasso Term for updating parameter\n",
    "# P -> Feature Matrix of Movie or User\n",
    "# X -> Similarity Matrix of Movie or User\n",
    "# i -> Ith Movie or User\n",
    "# K -> Number of Features\n",
    "# M -> Number of Movies or User\n",
    "def ULasso_Term(P,X,i,K,M):\n",
    "    sums=0;\n",
    "    for j in range(K):\n",
    "        for l in range(M):\n",
    "            if(l==i):    #If both are equal then leave\n",
    "                continue\n",
    "            sums+=(P[l][j] * X[l][i])\n",
    "            sums+=(X[i][l] * P[l][j])\n",
    "    return sums"
   ]
  },
  {
   "cell_type": "code",
   "execution_count": 6,
   "metadata": {},
   "outputs": [],
   "source": [
    "#Calculating Similarity Matrix for Movies\n",
    "def calculate_Similarity(X):\n",
    "    R=X @ X.T\n",
    "    R=R/len(R)\n",
    "    return R"
   ]
  },
  {
   "cell_type": "code",
   "execution_count": 7,
   "metadata": {},
   "outputs": [],
   "source": [
    "def Normal_Lasso_Cost(R,P,Q,lamda=0.02):\n",
    "    cost=0\n",
    "    Q=Q.T\n",
    "    for i in range(len(R)):\n",
    "        for j in range(len(R[i])):\n",
    "            if R[i][j] > 0:\n",
    "                eij = R[i][j] - (P[i,:] @ Q[:,j])\n",
    "                cost+=(eij * eij)\n",
    "    cost+=lamda*(Lasso_Term(P)+Lasso_Term(Q.T))\n",
    "    return cost/len(R) "
   ]
  },
  {
   "cell_type": "code",
   "execution_count": 8,
   "metadata": {},
   "outputs": [],
   "source": [
    "def Ridge_Cost(R,P,Q,lamda=0.02):\n",
    "    cost=0\n",
    "    Q=Q.T\n",
    "    for i in range(len(R)):\n",
    "        for j in range(len(R[i])):\n",
    "            if R[i][j] > 0:\n",
    "                eij=R[i][j]-(P[i,:] @ Q[:,j])\n",
    "                cost+=(eij * eij)\n",
    "    cost+= lamda*(Ridge_Term(P)+Ridge_Term(Q.T))\n",
    "    return cost/len(R) "
   ]
  },
  {
   "cell_type": "code",
   "execution_count": 10,
   "metadata": {},
   "outputs": [],
   "source": [
    "def New_Lasso_Cost(R,P,Q,Movie_Sim,User_Sim,beta=0.2,lamda=0.02):\n",
    "    cost=0\n",
    "    Q=Q.T\n",
    "    for i in range(len(R)):\n",
    "        for j in range(len(R[i])):\n",
    "            if R[i][j] > 0:\n",
    "                eij=R[i][j] - (P[i,:] @ Q[:,j])\n",
    "                cost+=(eij*eij)\n",
    "    cost+=lamda*(Lasso_Term(P)+Lasso_Term(Q.T)+(beta/2)*Lasso_Term((np.absolute(P.T) @ Movie_Sim) @ np.absolute(P)) +(beta/2)*Lasso_Term((np.absolute(Q) @ User_Sim) @ np.absolute(Q.T)))\n",
    "    return cost/len(R) "
   ]
  },
  {
   "cell_type": "code",
   "execution_count": 35,
   "metadata": {},
   "outputs": [],
   "source": [
    "# Function calculating parameters with stochastic gradient descent algorithm with simple lASSO regularization\n",
    "def matrix_factorization_Lasso(R, P, Q, K, steps=5000, alpha=0.002,lamda=0.02):\n",
    "    ite=range(steps)\n",
    "    cost=[]\n",
    "    Q = Q.T\n",
    "    for step in range(steps): #Number of iterations of stochastic gradient descent\n",
    "        for i in range(len(R)):\n",
    "            for j in range(len(R[i])):\n",
    "                if R[i][j] > 0:     #For values greater than zero\n",
    "                    eij = R[i][j] - (P[i,:] @ Q[:,j])\n",
    "                    for k in range(K):\n",
    "                        P[i][k] = P[i][k] + alpha * ( (2*eij * Q[k][j])/len(R) - lamda)\n",
    "                        Q[k][j] = Q[k][j] + alpha * ( (2* eij * P[i][k] )/len(R)- lamda)\n",
    "        cost.append(Normal_Lasso_Cost(R,P,Q.T))     # Appending cost\n",
    "    return P,Q.T,ite,cost"
   ]
  },
  {
   "cell_type": "code",
   "execution_count": 36,
   "metadata": {},
   "outputs": [],
   "source": [
    "# Function calculating parameters with stochastic gradient descent algorithm with RIDGE regularization\n",
    "def matrix_factorization_Ridge(R, P, Q, K, steps=5000, alpha=0.002, lamda=0.02):\n",
    "    ite=range(steps)\n",
    "    cost=[]\n",
    "    Q = Q.T\n",
    "    for step in range(steps): #Number of iteration stochastic gradient descent\n",
    "        for i in range(len(R)):\n",
    "            for j in range(len(R[i])):\n",
    "                if R[i][j] > 0: # For value greater than zero\n",
    "                    eij = R[i][j] - (P[i,:] @ Q[:,j])\n",
    "                    for k in range(K):\n",
    "                        P[i][k] = P[i][k] + alpha * ( (2*eij * Q[k][j])/len(R) - lamda * P[i][k])\n",
    "                        Q[k][j] = Q[k][j] + alpha * ((2* eij * P[i][k])/len(R) - lamda * Q[k][j])\n",
    "        cost.append(Ridge_Cost(R,P,Q.T))    # Appending Cost\n",
    "    return P,Q.T,ite,cost"
   ]
  },
  {
   "cell_type": "code",
   "execution_count": 37,
   "metadata": {},
   "outputs": [],
   "source": [
    "# Function calculating parameters with stochastic gradient descent algorithm with INDEPENDENTLY INTERPRETABLE lASSO regularization\n",
    "def matrix_factorization_IILasso(R, P, Q, K, steps=5000, alpha=0.002, beta=0.2,lamda=0.02):\n",
    "    ite=range(steps)\n",
    "    cost=[]\n",
    "    Q=Q.T\n",
    "    Movie_Sim=calculate_Similarity(R)  #Function for similarity matrix of movies\n",
    "    User_Sim=calculate_Similarity(R.T)  #Function for similarity matrix of users \n",
    "    for step in range(steps):   # Number of iteration\n",
    "        for i in range(len(R)):\n",
    "            for j in range(len(R[i])):\n",
    "                if R[i][j] > 0:\n",
    "                    eij = R[i][j] - (P[i,:] @ Q[:,j])\n",
    "                    for k in range(K):\n",
    "                        P[i][k] = P[i][k] + alpha*((2*eij * Q[k][j])/len(R) - (lamda) - (beta*(lamda/2)*IILasso_Term(P,Movie_Sim,i,K,M)))\n",
    "                        Q[k][j] = Q[k][j] + alpha*((2*eij * P[i][k])/len(R) - (lamda) - (beta*(lamda/2)*IILasso_Term(Q.T,User_Sim,j,K,N)))\n",
    "        cost.append(New_Lasso_Cost(R,P,Q.T,Movie_Sim,User_Sim))    # Appending Cost\n",
    "    return P,Q.T,ite,cost\n",
    "    "
   ]
  },
  {
   "cell_type": "code",
   "execution_count": 38,
   "metadata": {},
   "outputs": [],
   "source": [
    "# Function calculating parameters with stochastic gradient descent algorithm with UNCORRELATED lASSO regularization\n",
    "\n",
    "def matrix_factorization_ULasso(R, P, Q, K, steps=5000, alpha=0.002, beta=0.2,lamda=0.02):\n",
    "    ite=range(steps)\n",
    "    cost=[]\n",
    "    Q=Q.T\n",
    "    X1=calculate_Similarity(R)\n",
    "    Movie_Sim=X1*X1         #Part of ULasso\n",
    "    X2=calculate_Similarity(R.T)\n",
    "    User_Sim=X2*X2         #Part of Ulasso\n",
    "    for step in range(steps):\n",
    "        for i in range(len(R)):\n",
    "            for j in range(len(R[i])):\n",
    "                if R[i][j] > 0:\n",
    "                    eij = R[i][j] - (P[i,:] @ Q[:,j])\n",
    "                    for k in range(K):\n",
    "                        P[i][k] = P[i][k] + alpha*((2*eij * Q[k][j])/len(R) - (lamda) - (beta*(lamda/2)*ULasso_Term(P,Movie_Sim,i,K,M)))\n",
    "                        Q[k][j] = Q[k][j] + alpha*((2*eij * P[i][k])/len(R) - (lamda) - (beta*(lamda/2)*ULasso_Term(Q.T,User_Sim,j,K,N)))\n",
    "        cost.append(New_Lasso_Cost(R,P,Q.T,Movie_Sim,User_Sim))    #Appending Cost\n",
    "    return P,Q.T,ite,cost\n",
    "    "
   ]
  },
  {
   "cell_type": "code",
   "execution_count": 15,
   "metadata": {},
   "outputs": [],
   "source": [
    "# Function to calculate Squared error\n",
    "def error(nR,R):\n",
    "    x=0\n",
    "    for i in range(len(R)):\n",
    "        for j in range(len(R[i])):\n",
    "            if R[i][j] > 0:\n",
    "                y=R[i][j]-nR[i][j]\n",
    "                x+=y*y\n",
    "                \n",
    "    return math.sqrt(x/len(R))"
   ]
  },
  {
   "cell_type": "code",
   "execution_count": 16,
   "metadata": {},
   "outputs": [],
   "source": [
    "#Input Matrix of dimension M * N where M represents number of Movies and N represents number of Users\n",
    "R = [\n",
    "     [5,3,0,1],\n",
    "     [4,0,0,1],\n",
    "     [1,1,0,5],\n",
    "     [1,0,0,4],\n",
    "     [0,1,5,4],\n",
    "    ]\n",
    "'''R = [\n",
    "     [0,4.5,2,0],\n",
    "     [4,0,3.5,0],\n",
    "     [0,5,0,2],\n",
    "     [0,3.5,4,1],\n",
    "    ]\n",
    "\n",
    "\n",
    "ratings=pd.read_csv(\"ratings.csv\")\n",
    "movies=pd.read_csv(\"movies.csv\")\n",
    "ratings=pd.merge(movies,ratings).drop(['genres','timestamp'],axis=1)\n",
    "userRatings = ratings.pivot_table(index=['userId'],columns=['title'],values='rating')\n",
    "userRatings = userRatings.dropna(thresh=100, axis=1).fillna(0,axis=1)\n",
    "R = numpy.array(userRatings)  #Converting into numpy array\n",
    "print(R.shape)\n",
    "R=R[0:100]\n",
    "print(R.shape)\n",
    "R=R.T\n",
    "print(R.shape)\n",
    "\n",
    "'''\n",
    "R = np.array(R)\n",
    "M,N=R.shape         # Finding shape of R\n",
    "K = 2               # Number of Features of movies and users\n",
    "\n",
    "P_init = np.random.randn(M,K)  # Initializing Movie's Feature Matrix\n",
    "Q_init = np.random.randn(N,K) # Initializing User's Feature Matrix"
   ]
  },
  {
   "cell_type": "code",
   "execution_count": 39,
   "metadata": {
    "scrolled": true
   },
   "outputs": [
    {
     "name": "stdout",
     "output_type": "stream",
     "text": [
      "--------------------------------------Normal Lasso------------------------------------------------\n",
      "nP:  [[-0.30984903 -1.89182146]\n",
      " [ 0.04792039 -0.4949571 ]\n",
      " [-1.9351408  -0.23579473]\n",
      " [-1.36931969 -0.00579344]\n",
      " [-1.83526584  0.33218184]]\n",
      "nQ:  [[ 1.23651936e-03 -1.85145101e+00]\n",
      " [-5.17513510e-01 -1.36007690e+00]\n",
      " [-2.61014552e+00  1.99938990e-02]\n",
      " [-2.40377003e+00  3.21073886e-01]]\n",
      "nR:  [[ 3.50223163  2.73337374  0.77092618  0.13739135]\n",
      " [ 0.91644808  0.64838028 -0.1349753  -0.27410739]\n",
      " [ 0.43416955  1.32216047  5.04628465  4.57592594]\n",
      " [ 0.00903308  0.71652096  3.57400782  3.28966951]\n",
      " [-0.61728775  0.49798201  4.79695253  4.51821195]]\n",
      "RME:  1.8353367250434849\n",
      "-------------------------------------- RIDGE ------------------------------------------------\n",
      "nP:  [[-0.19038242 -1.70183714]\n",
      " [ 0.23074226 -0.22647972]\n",
      " [-1.85920165 -0.12753875]\n",
      " [-1.27844563  0.14461949]\n",
      " [-1.84485103  0.40725438]]\n",
      "nQ:  [[ 0.15691942 -1.52703113]\n",
      " [-0.50716982 -1.27093242]\n",
      " [-2.57218813  0.06443916]\n",
      " [-2.24447939  0.49383697]]\n",
      "nR:  [[ 2.56888359  2.25947621  0.38003443 -0.41312069]\n",
      " [ 0.38204953  0.17081491 -0.60810667 -0.62974031]\n",
      " [-0.09698921  1.10502411  4.77399793  4.10995645]\n",
      " [-0.42145141  0.46458745  3.29772182  2.94086332]\n",
      " [-0.91138307  0.41805998  4.77154705  4.3418474 ]]\n",
      "RME:  2.443678529832017\n",
      "\n",
      "----------------------------------------ULASSO----------------------------------------------------\n",
      "\n",
      "nP:  [[ 0.29337544 -0.62018065]\n",
      " [ 1.16989046  0.41124541]\n",
      " [-1.39306981  0.80999771]\n",
      " [-0.50684553  1.00531999]\n",
      " [-1.89019233  0.78805039]]\n",
      "nQ:  [[ 0.78733836 -0.59566936]\n",
      " [-0.64939104 -1.10429331]\n",
      " [-2.66913911  0.01142214]\n",
      " [-0.82884219  2.73492338]]\n",
      "nR:  [[ 0.60040835  0.49434596 -0.79014366 -1.93930851]\n",
      " [ 0.67613334 -1.21385194 -3.11790309  0.15507012]\n",
      " [-1.57930811  0.01017199  3.72754902  3.36991671]\n",
      " [-0.99789724 -0.7810272   1.36432413  3.16956811]\n",
      " [-1.95763839  0.35723518  5.0541875   3.7219286 ]]\n",
      "RME:  3.507153201181241\n",
      "\n",
      "----------------------------------------IILASSO----------------------------------------------------\n",
      "\n",
      "nP:  [[-0.30042415 -2.07311936]\n",
      " [-0.21148289 -0.96786316]\n",
      " [-1.94476661 -0.35579732]\n",
      " [-1.4612866  -0.25321391]\n",
      " [-1.80567661  0.17909544]]\n",
      "nQ:  [[-0.20565238 -2.27224908]\n",
      " [-0.52246638 -1.46059517]\n",
      " [-2.65542792 -0.07726687]\n",
      " [-2.62238209 -0.16112456]]\n",
      "nR:  [[ 4.77242649  3.18494963  0.95793811  1.12185734]\n",
      " [ 2.24271814  1.52414896  0.63636134  0.71053548]\n",
      " [ 1.208406    1.53575102  5.1916789   5.15724882]\n",
      " [ 0.87588213  1.13331613  3.89990628  3.87285078]\n",
      " [-0.03560776  0.68181939  4.78100593  4.70631732]]\n",
      "RME:  0.9281721368852761\n"
     ]
    }
   ],
   "source": [
    "\n",
    "Iter=[] #Initializing Iter List of List for all the model\n",
    "Cost=[] #Initializing Cost List of List for all the model\n",
    "print('--------------------------------------Normal Lasso------------------------------------------------')\n",
    "P=P_init.copy()\n",
    "Q=Q_init.copy()\n",
    "nP, nQ , ite, cost = matrix_factorization_Lasso(R, P, Q, K,steps=500)\n",
    "nR = np.dot(nP, nQ.T)\n",
    "print('nP: ',nP)\n",
    "print('nQ: ',nQ)\n",
    "print('nR: ',nR)\n",
    "print('RME: ',error(nR,R))\n",
    "Iter.append(ite)\n",
    "Cost.append(cost)\n",
    "\n",
    "\n",
    "print('-------------------------------------- RIDGE ------------------------------------------------')\n",
    "P=P_init.copy()\n",
    "Q=Q_init.copy()\n",
    "nP, nQ , ite, cost = matrix_factorization_Ridge(R, P, Q, K,steps=500)\n",
    "nR = np.dot(nP, nQ.T)\n",
    "print('nP: ',nP)\n",
    "print('nQ: ',nQ)\n",
    "print('nR: ',nR)\n",
    "print('RME: ',error(nR,R))\n",
    "Iter.append(ite)\n",
    "Cost.append(cost)\n",
    "\n",
    "print(\"\\n----------------------------------------ULASSO----------------------------------------------------\\n\")\n",
    "P=P_init.copy()\n",
    "Q=Q_init.copy()\n",
    "nP, nQ, ite, cost = matrix_factorization_ULasso(R, P, Q, K,steps=500)\n",
    "nR = np.dot(nP, nQ.T)\n",
    "print('nP: ',nP)\n",
    "print('nQ: ',nQ)\n",
    "print('nR: ',nR)\n",
    "print('RME: ',error(nR,R))\n",
    "Iter.append(ite)\n",
    "Cost.append(cost)\n",
    "\n",
    "print(\"\\n----------------------------------------IILASSO----------------------------------------------------\\n\")\n",
    "P=P_init.copy()\n",
    "Q=Q_init.copy()\n",
    "nP, nQ, ite, cost = matrix_factorization_IILasso(R, P, Q, K,steps=500)\n",
    "nR = np.dot(nP, nQ.T)\n",
    "print('nP: ',nP)\n",
    "print('nQ: ',nQ)\n",
    "print('nR: ',nR)\n",
    "print('RME: ',error(nR,R))\n",
    "Iter.append(ite)\n",
    "Cost.append(cost)"
   ]
  },
  {
   "cell_type": "code",
   "execution_count": 40,
   "metadata": {},
   "outputs": [
    {
     "data": {
      "image/png": "[encoded data removed]",
      "text/plain": [
       "<Figure size 432x288 with 1 Axes>"
      ]
     },
     "metadata": {
      "needs_background": "light"
     },
     "output_type": "display_data"
    }
   ],
   "source": [
    "#Visualization of Cost vs Iteration of All the Model\n",
    "\n",
    "Label=['Normal Lasso' ,'Ridge','ULasso','IILasso']\n",
    "plt.xlabel('Iteration')\n",
    "plt.ylabel('Cost')\n",
    "plt.title('Cost Vs Iteration of all Model')\n",
    "for i in range(4):\n",
    "    plt.plot(Iter[i],Cost[i],label=Label[i])\n",
    "    plt.legend()\n",
    "plt.show()"
   ]
  },
  {
   "cell_type": "code",
   "execution_count": 42,
   "metadata": {},
   "outputs": [
    {
     "name": "stdout",
     "output_type": "stream",
     "text": [
      "3.438634116741281 6.083026363786831 14.557054418245926 1.2479104586992522\n"
     ]
    }
   ],
   "source": [
    "print(Cost[0][499],Cost[1][499],Cost[2][499],Cost[3][499])"
   ]
  }
 ],
 "metadata": {
  "kernelspec": {
   "display_name": "Python 3",
   "language": "python",
   "name": "python3"
  },
  "language_info": {
   "codemirror_mode": {
    "name": "ipython",
    "version": 3
   },
   "file_extension": ".py",
   "mimetype": "text/x-python",
   "name": "python",
   "nbconvert_exporter": "python",
   "pygments_lexer": "ipython3",
   "version": "3.7.7"
  }
 },
 "nbformat": 4,
 "nbformat_minor": 2
}
