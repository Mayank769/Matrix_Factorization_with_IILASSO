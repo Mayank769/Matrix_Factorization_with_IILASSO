{
 "cells": [
  {
   "cell_type": "code",
   "execution_count": 1,
   "metadata": {},
   "outputs": [],
   "source": [
    "#importing required library\n",
    "import numpy as np \n",
    "import math\n",
    "import matplotlib.pyplot as plt\n",
    "import pandas as pd"
   ]
  },
  {
   "cell_type": "code",
   "execution_count": 3,
   "metadata": {},
   "outputs": [],
   "source": [
    "def Lasso_Term(P):\n",
    "    return sum(sum(np.absolute(P)))"
   ]
  },
  {
   "cell_type": "code",
   "execution_count": 4,
   "metadata": {},
   "outputs": [],
   "source": [
    "def Ridge_Term(P):\n",
    "    return sum(sum(np.square(P)))"
   ]
  },
  {
   "cell_type": "code",
   "execution_count": 5,
   "metadata": {},
   "outputs": [],
   "source": [
    "# Calculating Lasso Term for updating parameter\n",
    "# P -> Feature Matrix of Movie or User\n",
    "# X -> Similarity Matrix of Movie or User\n",
    "# i -> Ith Movie or User\n",
    "# K -> Number of Features\n",
    "# M -> Number of Movies or User\n",
    "def IILasso_Term(P,X,i,K,M):\n",
    "    sums=0;\n",
    "    for j in range(K):\n",
    "        for l in range(M):\n",
    "            if(l==i):    #If both are equal then leave\n",
    "                continue\n",
    "            sums+=(abs(P[l][j]) * X[l][i])\n",
    "            sums+=(X[i][l] * abs(P[l][j]))\n",
    "    return sums"
   ]
  },
  {
   "cell_type": "code",
   "execution_count": 6,
   "metadata": {},
   "outputs": [],
   "source": [
    "# Calculating Lasso Term for updating parameter\n",
    "# P -> Feature Matrix of Movie or User\n",
    "# X -> Similarity Matrix of Movie or User\n",
    "# i -> Ith Movie or User\n",
    "# K -> Number of Features\n",
    "# M -> Number of Movies or User\n",
    "def ULasso_Term(P,X,i,K,M):\n",
    "    sums=0;\n",
    "    for j in range(K):\n",
    "        for l in range(M):\n",
    "            if(l==i):    #If both are equal then leave\n",
    "                continue\n",
    "            sums+=(P[l][j] * X[l][i])\n",
    "            sums+=(X[i][l] * P[l][j])\n",
    "    return sums"
   ]
  },
  {
   "cell_type": "code",
   "execution_count": 7,
   "metadata": {},
   "outputs": [],
   "source": [
    "#Calculating Similarity Matrix for Movies\n",
    "def calculate_Similarity(X):\n",
    "    R=X @ X.T\n",
    "    R=R/len(R)\n",
    "    return R"
   ]
  },
  {
   "cell_type": "code",
   "execution_count": 8,
   "metadata": {},
   "outputs": [],
   "source": [
    "def Normal_Lasso_Cost(R,P,Q,lamda=0.02):\n",
    "    cost=0\n",
    "    Q=Q.T\n",
    "    for i in range(len(R)):\n",
    "        for j in range(len(R[i])):\n",
    "            if R[i][j] > 0:\n",
    "                eij = R[i][j] - (P[i,:] @ Q[:,j])\n",
    "                cost+=(eij * eij)\n",
    "    cost+=lamda*(Lasso_Term(P)+Lasso_Term(Q.T))\n",
    "    return cost/len(R) "
   ]
  },
  {
   "cell_type": "code",
   "execution_count": 9,
   "metadata": {},
   "outputs": [],
   "source": [
    "def Ridge_Cost(R,P,Q,lamda=0.02):\n",
    "    cost=0\n",
    "    Q=Q.T\n",
    "    for i in range(len(R)):\n",
    "        for j in range(len(R[i])):\n",
    "            if R[i][j] > 0:\n",
    "                eij=R[i][j]-(P[i,:] @ Q[:,j])\n",
    "                cost+=(eij * eij)\n",
    "    cost+= lamda*(Ridge_Term(P)+Ridge_Term(Q.T))\n",
    "    return cost/len(R) "
   ]
  },
  {
   "cell_type": "code",
   "execution_count": 10,
   "metadata": {},
   "outputs": [],
   "source": [
    "def New_Lasso_Cost(R,P,Q,Movie_Sim,User_Sim,beta=0.2,lamda=0.02):\n",
    "    cost=0\n",
    "    Q=Q.T\n",
    "    for i in range(len(R)):\n",
    "        for j in range(len(R[i])):\n",
    "            if R[i][j] > 0:\n",
    "                eij=R[i][j] - (P[i,:] @ Q[:,j])\n",
    "                cost+=(eij*eij)\n",
    "    cost+=lamda*(Lasso_Term(P)+Lasso_Term(Q.T)+(beta/2)*Lasso_Term((np.absolute(P.T) @ Movie_Sim) @ np.absolute(P)) +(beta/2)*Lasso_Term((np.absolute(Q) @ User_Sim) @ np.absolute(Q.T)))\n",
    "    return cost/len(R) "
   ]
  },
  {
   "cell_type": "code",
   "execution_count": 22,
   "metadata": {},
   "outputs": [],
   "source": [
    "# Function calculating parameters with stochastic gradient descent algorithm with simple lASSO regularization\n",
    "def matrix_factorization_Lasso(R, P, Q, K, steps=5000, alpha=0.002,lamda=0.02):\n",
    "    ite=range(steps)\n",
    "    cost=[]\n",
    "    Q = Q.T\n",
    "    for step in range(steps): #Number of iterations of stochastic gradient descent\n",
    "        for i in range(len(R)):\n",
    "            for j in range(len(R[i])):\n",
    "                if R[i][j] > 0:     #For values greater than zero\n",
    "                    eij = R[i][j] - (P[i,:] @ Q[:,j])\n",
    "                    for k in range(K):\n",
    "                        P[i][k] = P[i][k] + alpha * ( (2*eij * Q[k][j]) - lamda)\n",
    "                        Q[k][j] = Q[k][j] + alpha * ( (2* eij * P[i][k])- lamda)\n",
    "        cost.append(Normal_Lasso_Cost(R,P,Q.T))     # Appending cost\n",
    "    return P,Q.T,ite,cost"
   ]
  },
  {
   "cell_type": "code",
   "execution_count": 21,
   "metadata": {},
   "outputs": [],
   "source": [
    "# Function calculating parameters with stochastic gradient descent algorithm with RIDGE regularization\n",
    "def matrix_factorization_Ridge(R, P, Q, K, steps=5000, alpha=0.002, lamda=0.02):\n",
    "    ite=range(steps)\n",
    "    cost=[]\n",
    "    Q = Q.T\n",
    "    for step in range(steps): #Number of iteration stochastic gradient descent\n",
    "        for i in range(len(R)):\n",
    "            for j in range(len(R[i])):\n",
    "                if R[i][j] > 0: # For value greater than zero\n",
    "                    eij = R[i][j] - (P[i,:] @ Q[:,j])\n",
    "                    for k in range(K):\n",
    "                        P[i][k] = P[i][k] + alpha * ( (2*eij * Q[k][j]) - lamda * P[i][k])\n",
    "                        Q[k][j] = Q[k][j] + alpha * ((2* eij * P[i][k]) - lamda * Q[k][j])\n",
    "        cost.append(Ridge_Cost(R,P,Q.T))    # Appending Cost\n",
    "    return P,Q.T,ite,cost"
   ]
  },
  {
   "cell_type": "code",
   "execution_count": 20,
   "metadata": {},
   "outputs": [],
   "source": [
    "# Function calculating parameters with stochastic gradient descent algorithm with INDEPENDENTLY INTERPRETABLE lASSO regularization\n",
    "def matrix_factorization_IILasso(R, P, Q, K, steps=5000, alpha=0.002, beta=0.2,lamda=0.02):\n",
    "    ite=range(steps)\n",
    "    cost=[]\n",
    "    Q=Q.T\n",
    "    Movie_Sim=calculate_Similarity(R)  #Function for similarity matrix of movies\n",
    "    User_Sim=calculate_Similarity(R.T)  #Function for similarity matrix of users \n",
    "    for step in range(steps):   # Number of iteration\n",
    "        for i in range(len(R)):\n",
    "            for j in range(len(R[i])):\n",
    "                if R[i][j] > 0:\n",
    "                    eij = R[i][j] - (P[i,:] @ Q[:,j])\n",
    "                    for k in range(K):\n",
    "                        P[i][k] = P[i][k] + alpha*((2*eij * Q[k][j])- (lamda) - (beta*(lamda/2)*IILasso_Term(P,Movie_Sim,i,K,M)))\n",
    "                        Q[k][j] = Q[k][j] + alpha*((2*eij * P[i][k]) - (lamda) - (beta*(lamda/2)*IILasso_Term(Q.T,User_Sim,j,K,N)))\n",
    "        cost.append(New_Lasso_Cost(R,P,Q.T,Movie_Sim,User_Sim))    # Appending Cost\n",
    "    return P,Q.T,ite,cost\n",
    "    "
   ]
  },
  {
   "cell_type": "code",
   "execution_count": 19,
   "metadata": {},
   "outputs": [],
   "source": [
    "# Function calculating parameters with stochastic gradient descent algorithm with UNCORRELATED lASSO regularization\n",
    "\n",
    "def matrix_factorization_ULasso(R, P, Q, K, steps=5000, alpha=0.002, beta=0.2,lamda=0.02):\n",
    "    ite=range(steps)\n",
    "    cost=[]\n",
    "    Q=Q.T\n",
    "    X1=calculate_Similarity(R)\n",
    "    Movie_Sim=X1*X1         #Part of ULasso\n",
    "    X2=calculate_Similarity(R.T)\n",
    "    User_Sim=X2*X2         #Part of Ulasso\n",
    "    for step in range(steps):\n",
    "        for i in range(len(R)):\n",
    "            for j in range(len(R[i])):\n",
    "                if R[i][j] > 0:\n",
    "                    eij = R[i][j] - (P[i,:] @ Q[:,j])\n",
    "                    for k in range(K):\n",
    "                        P[i][k] = P[i][k] + alpha*((2*eij * Q[k][j]) - (lamda) - (beta*(lamda/2)*ULasso_Term(P,Movie_Sim,i,K,M)))\n",
    "                        Q[k][j] = Q[k][j] + alpha*((2*eij * P[i][k]) - (lamda) - (beta*(lamda/2)*ULasso_Term(Q.T,User_Sim,j,K,N)))\n",
    "        cost.append(New_Lasso_Cost(R,P,Q.T,Movie_Sim,User_Sim))    #Appending Cost\n",
    "    return P,Q.T,ite,cost\n",
    "    "
   ]
  },
  {
   "cell_type": "code",
   "execution_count": 15,
   "metadata": {},
   "outputs": [],
   "source": [
    "# Function to calculate Squared error\n",
    "def error(nR,R):\n",
    "    x=0\n",
    "    for i in range(len(R)):\n",
    "        for j in range(len(R[i])):\n",
    "            if R[i][j] > 0:\n",
    "                y=R[i][j]-nR[i][j]\n",
    "                x+=y*y\n",
    "                \n",
    "    return math.sqrt(x/len(R))"
   ]
  },
  {
   "cell_type": "code",
   "execution_count": 32,
   "metadata": {},
   "outputs": [
    {
     "name": "stdout",
     "output_type": "stream",
     "text": [
      "(610, 450)\n",
      "(200, 450)\n",
      "(450, 200)\n"
     ]
    }
   ],
   "source": [
    "#Input Matrix of dimension M * N where M represents number of Movies and N represents number of Users\n",
    "R = [\n",
    "     [5,3,0,1],\n",
    "     [4,0,0,1],\n",
    "     [1,1,0,5],\n",
    "     [1,0,0,4],\n",
    "     [0,1,5,4],\n",
    "    ]\n",
    "'''R = [\n",
    "     [0,4.5,2,0],\n",
    "     [4,0,3.5,0],\n",
    "     [0,5,0,2],\n",
    "     [0,3.5,4,1],\n",
    "    ]\n",
    "\n",
    "\n",
    "'''\n",
    "ratings=pd.read_csv(\"ratings.csv\")\n",
    "movies=pd.read_csv(\"movies.csv\")\n",
    "ratings=pd.merge(movies,ratings).drop(['genres','timestamp'],axis=1)\n",
    "userRatings = ratings.pivot_table(index=['userId'],columns=['title'],values='rating')\n",
    "userRatings = userRatings.dropna(thresh=50, axis=1).fillna(0,axis=1)\n",
    "R = np.array(userRatings)  #Converting into numpy array\n",
    "print(R.shape)\n",
    "R=R[0:200]\n",
    "print(R.shape)\n",
    "R=R.T\n",
    "print(R.shape)\n",
    "\n",
    "R = np.array(R)\n",
    "M,N=R.shape         # Finding shape of R\n",
    "K = 2               # Number of Features of movies and users\n",
    "\n",
    "P_init = np.random.randn(M,K)  # Initializing Movie's Feature Matrix\n",
    "Q_init = np.random.randn(N,K) # Initializing User's Feature Matrix"
   ]
  },
  {
   "cell_type": "code",
   "execution_count": 36,
   "metadata": {
    "scrolled": true
   },
   "outputs": [
    {
     "name": "stdout",
     "output_type": "stream",
     "text": [
      "--------------------------------------Normal Lasso------------------------------------------------\n",
      "nR:  [[ 3.13099137 -1.08110533 -0.91860211 ...  1.99830444  2.42127844\n",
      "   2.95208057]\n",
      " [ 3.50649045 -1.17549504 -0.87219253 ...  2.31865993  2.73646764\n",
      "   3.31848354]\n",
      " [ 4.50383469 -1.11392884  0.6374798  ...  3.88408815  3.7932678\n",
      "   4.40111472]\n",
      " ...\n",
      " [ 1.87317143 -0.51415791  0.03928801 ...  1.49901632  1.5418631\n",
      "   1.81262088]\n",
      " [ 0.75385938  0.03135622  1.07371713 ...  1.14852057  0.78812321\n",
      "   0.81300467]\n",
      " [ 3.3329023  -0.99521146 -0.28695945 ...  2.48324822  2.68687467\n",
      "   3.19699395]]\n",
      "RME:  7.805806332300871\n",
      "-------------------------------------- RIDGE ------------------------------------------------\n",
      "nR:  [[ 3.48084617 -0.54618075 -0.94348192 ...  2.39466342  2.73360903\n",
      "   3.24525824]\n",
      " [ 4.29827662 -0.66236488 -1.06710743 ...  2.99890809  3.3836445\n",
      "   4.01291841]\n",
      " [ 4.5937511  -0.50612815  0.495498   ...  3.90478496  3.75127501\n",
      "   4.38155728]\n",
      " ...\n",
      " [ 2.6194695  -0.35324945 -0.24158329 ...  2.0024268   2.09580808\n",
      "   2.46874637]\n",
      " [ 1.74260747 -0.11987999  0.77268724 ...  1.7313477   1.47128238\n",
      "   1.69527478]\n",
      " [ 3.63281471 -0.49536572 -0.37932032 ...  2.75812894  2.90291935\n",
      "   3.42127286]]\n",
      "RME:  6.753563819420764\n",
      "\n",
      "----------------------------------------ULASSO----------------------------------------------------\n",
      "\n",
      "nR:  [[ 2.29905267e-01 -8.18974263e-01 -3.75695933e-01 ... -3.42643445e-01\n",
      "  -3.87926010e-01 -3.94449586e-01]\n",
      " [-1.51186343e-01  2.11896339e-01  3.25301946e-02 ... -2.61151204e-02\n",
      "  -1.49076697e-03 -1.75381339e-02]\n",
      " [ 2.97008318e+00 -7.28961008e-01  1.61599319e+00 ...  3.15607617e+00\n",
      "   2.72649913e+00  3.25553163e+00]\n",
      " ...\n",
      " [-2.89331447e-01  1.98284036e+00  1.09812584e+00 ...  1.16411696e+00\n",
      "   1.23612617e+00  1.30361623e+00]\n",
      " [-1.87203171e-01  2.50740836e+00  1.51465188e+00 ...  1.69570324e+00\n",
      "   1.76161243e+00  1.88151252e+00]\n",
      " [ 1.03159446e+00 -1.16127316e-01  6.51292422e-01 ...  1.20169377e+00\n",
      "   1.05465178e+00  1.24693296e+00]]\n",
      "RME:  11.509645222977346\n",
      "\n",
      "----------------------------------------IILASSO----------------------------------------------------\n",
      "\n",
      "nR:  [[ 3.32122388  1.96662165 -0.72765581 ...  2.66470328  2.82087059\n",
      "   3.2368445 ]\n",
      " [ 5.11597365  2.98547152 -0.82242207 ...  4.14763745  4.30574287\n",
      "   4.98545101]\n",
      " [ 4.74276599  2.56092945  0.6435198  ...  4.04744786  3.80559865\n",
      "   4.61919442]\n",
      " ...\n",
      " [ 5.33769185  2.95819832  0.20723296 ...  4.48073333  4.35138101\n",
      "   5.19956489]\n",
      " [ 4.9233174   2.60239915  1.04897245 ...  4.25636571  3.90006325\n",
      "   4.79434512]\n",
      " [ 3.93045158  2.21233399 -0.07888688 ...  3.26610245  3.23480508\n",
      "   3.82916392]]\n",
      "RME:  5.754952315689231\n"
     ]
    }
   ],
   "source": [
    "\n",
    "Iter=[] #Initializing Iter List of List for all the model\n",
    "Cost=[] #Initializing Cost List of List for all the model\n",
    "print('--------------------------------------Normal Lasso------------------------------------------------')\n",
    "P=P_init.copy()\n",
    "Q=Q_init.copy()\n",
    "nP, nQ , ite, cost = matrix_factorization_Lasso(R, P, Q, K,steps=10)\n",
    "nR = np.dot(nP, nQ.T)\n",
    "#print('nP: ',nP)\n",
    "#print('nQ: ',nQ)\n",
    "print('nR: ',nR)\n",
    "print('RME: ',error(nR,R))\n",
    "Iter.append(ite)\n",
    "Cost.append(cost)\n",
    "\n",
    "\n",
    "print('-------------------------------------- RIDGE ------------------------------------------------')\n",
    "P=P_init.copy()\n",
    "Q=Q_init.copy()\n",
    "nP, nQ , ite, cost = matrix_factorization_Ridge(R, P, Q, K,steps=10)\n",
    "nR = np.dot(nP, nQ.T)\n",
    "#print('nP: ',nP)\n",
    "#print('nQ: ',nQ)\n",
    "print('nR: ',nR)\n",
    "print('RME: ',error(nR,R))\n",
    "Iter.append(ite)\n",
    "Cost.append(cost)\n",
    "\n",
    "print(\"\\n----------------------------------------ULASSO----------------------------------------------------\\n\")\n",
    "P=P_init.copy()\n",
    "Q=Q_init.copy()\n",
    "nP, nQ, ite, cost = matrix_factorization_ULasso(R, P, Q, K,steps=10,beta=0.02)\n",
    "nR = np.dot(nP, nQ.T)\n",
    "#print('nP: ',nP)\n",
    "#print('nQ: ',nQ)\n",
    "print('nR: ',nR)\n",
    "print('RME: ',error(nR,R))\n",
    "Iter.append(ite)\n",
    "Cost.append(cost)\n",
    "\n",
    "print(\"\\n----------------------------------------IILASSO----------------------------------------------------\\n\")\n",
    "P=P_init.copy()\n",
    "Q=Q_init.copy()\n",
    "nP, nQ, ite, cost = matrix_factorization_IILasso(R, P, Q, K,steps=10,beta=0.02)\n",
    "nR = np.dot(nP, nQ.T)\n",
    "#print('nP: ',nP)\n",
    "#print('nQ: ',nQ)\n",
    "print('nR: ',nR)\n",
    "print('RME: ',error(nR,R))\n",
    "Iter.append(ite)\n",
    "Cost.append(cost)"
   ]
  },
  {
   "cell_type": "code",
   "execution_count": 37,
   "metadata": {},
   "outputs": [
    {
     "data": {
      "image/png": "[encoded data removed]",
      "text/plain": [
       "<Figure size 432x288 with 1 Axes>"
      ]
     },
     "metadata": {
      "needs_background": "light"
     },
     "output_type": "display_data"
    }
   ],
   "source": [
    "#Visualization of Cost vs Iteration of All the Model\n",
    "\n",
    "Label=['Normal Lasso' ,'Ridge','ULasso','IILasso']\n",
    "plt.xlabel('Iteration')\n",
    "plt.ylabel('Cost')\n",
    "plt.title('Cost Vs Iteration of all Model')\n",
    "for i in range(4):\n",
    "    plt.plot(Iter[i],Cost[i],label=Label[i])\n",
    "    plt.legend()\n",
    "plt.show()"
   ]
  },
  {
   "cell_type": "code",
   "execution_count": 31,
   "metadata": {},
   "outputs": [
    {
     "name": "stdout",
     "output_type": "stream",
     "text": [
      "120.62595393975204 123.46495692552088 167.3428476292736 90.78852969851116\n"
     ]
    }
   ],
   "source": [
    "print(Cost[0][5],Cost[1][5],Cost[2][5],Cost[3][5])"
   ]
  }
 ],
 "metadata": {
  "kernelspec": {
   "display_name": "Python 3",
   "language": "python",
   "name": "python3"
  },
  "language_info": {
   "codemirror_mode": {
    "name": "ipython",
    "version": 3
   },
   "file_extension": ".py",
   "mimetype": "text/x-python",
   "name": "python",
   "nbconvert_exporter": "python",
   "pygments_lexer": "ipython3",
   "version": "3.7.7"
  }
 },
 "nbformat": 4,
 "nbformat_minor": 2
}
