{
 "cells": [
  {
   "cell_type": "code",
   "execution_count": 1,
   "metadata": {},
   "outputs": [],
   "source": [
    "#importing required library\n",
    "import numpy as np \n",
    "import math\n",
    "import matplotlib.pyplot as plt\n",
    "import pandas as pd"
   ]
  },
  {
   "cell_type": "code",
   "execution_count": 2,
   "metadata": {},
   "outputs": [],
   "source": [
    "def Lasso_Term(P):\n",
    "    return sum(sum(np.absolute(P)))"
   ]
  },
  {
   "cell_type": "code",
   "execution_count": 3,
   "metadata": {},
   "outputs": [],
   "source": [
    "def Ridge_Term(P):\n",
    "    return sum(sum(np.square(P)))"
   ]
  },
  {
   "cell_type": "code",
   "execution_count": 65,
   "metadata": {},
   "outputs": [],
   "source": [
    "# Calculating Lasso Term for updating parameter\n",
    "# P -> Feature Matrix of Movie or User\n",
    "# X -> Similarity Matrix of Movie or User\n",
    "# i -> Ith Movie or User\n",
    "# K -> Number of Features\n",
    "# M -> Number of Movies or User\n",
    "def IILasso_Term(P,X):\n",
    "    m = P.shape[0]\n",
    "    return np.sum(X@abs(P),axis=1).reshape(m,1)*2"
   ]
  },
  {
   "cell_type": "code",
   "execution_count": 66,
   "metadata": {},
   "outputs": [],
   "source": [
    "# Calculating Lasso Term for updating parameter\n",
    "# P -> Feature Matrix of Movie or User\n",
    "# X -> Similarity Matrix of Movie or User\n",
    "# i -> Ith Movie or User\n",
    "# K -> Number of Features\n",
    "# M -> Number of Movies or User\n",
    "def ULasso_Term(P,X):\n",
    "    m = P.shape[0]\n",
    "    return np.sum(X@P,axis=1).reshape(m,1)*2"
   ]
  },
  {
   "cell_type": "code",
   "execution_count": 6,
   "metadata": {},
   "outputs": [],
   "source": [
    "#Calculating Similarity Matrix for Movies\n",
    "def calculate_Similarity(X):\n",
    "    R=X @ X.T\n",
    "    R=R/len(R)\n",
    "    return R"
   ]
  },
  {
   "cell_type": "code",
   "execution_count": 16,
   "metadata": {},
   "outputs": [],
   "source": [
    "def Normal_Lasso_Cost(R,P,Q,mask,lamda=0.02):\n",
    "    cost=0\n",
    "    Q=Q.T\n",
    "    cost = sum(sum((np.square(R - (P @ Q)*mask))))\n",
    "    cost+=lamda*(Lasso_Term(P)+Lasso_Term(Q.T))\n",
    "    return cost/len(R) "
   ]
  },
  {
   "cell_type": "code",
   "execution_count": 17,
   "metadata": {},
   "outputs": [],
   "source": [
    "def Ridge_Cost(R,P,Q,mask,lamda=0.02):\n",
    "    cost=0\n",
    "    Q=Q.T\n",
    "    cost = sum(sum((np.square(R - (P @ Q)*mask))))\n",
    "    cost+= lamda*(Ridge_Term(P)+Ridge_Term(Q.T))\n",
    "    return cost/len(R) "
   ]
  },
  {
   "cell_type": "code",
   "execution_count": 18,
   "metadata": {},
   "outputs": [],
   "source": [
    "def New_Lasso_Cost(R,P,Q,Movie_Sim,User_Sim,mask,beta=0.2,lamda=0.02):\n",
    "    cost=0\n",
    "    Q=Q.T\n",
    "    cost = sum(sum((np.square(R - (P @ Q)*mask))))\n",
    "    cost+=lamda*(Lasso_Term(P)+Lasso_Term(Q.T)+(beta/2)*Lasso_Term((np.absolute(P.T) @ Movie_Sim) @ np.absolute(P)) +(beta/2)*Lasso_Term((np.absolute(Q) @ User_Sim) @ np.absolute(Q.T)))\n",
    "    return cost/len(R) "
   ]
  },
  {
   "cell_type": "code",
   "execution_count": 19,
   "metadata": {},
   "outputs": [],
   "source": [
    "# Function calculating parameters with stochastic gradient descent algorithm with simple lASSO regularization\n",
    "def matrix_factorization_Lasso(R, P, Q, K,mask, steps=5000, alpha=0.002,lamda=0.02):\n",
    "    ite=range(steps)\n",
    "    cost=[]                  \n",
    "    for step in range(steps): #Number of iterations of stochastic gradient descent\n",
    "        P = P + alpha * ( 2* ((R - mask * (P @ Q.T)) @ Q)/len(R) - lamda)\n",
    "        Q = Q + alpha * ( 2 * ((R - mask * (P @ Q.T)).T @ P )/len(R)- lamda)\n",
    "        cost.append(Normal_Lasso_Cost(R,P,Q,mask))     # Appending cost\n",
    "    return P,Q,ite,cost"
   ]
  },
  {
   "cell_type": "code",
   "execution_count": 25,
   "metadata": {},
   "outputs": [],
   "source": [
    "# Function calculating parameters with stochastic gradient descent algorithm with RIDGE regularization\n",
    "def matrix_factorization_Ridge(R, P, Q, K, mask, steps=5000, alpha=0.002, lamda=0.02):\n",
    "    ite=range(steps)\n",
    "    cost=[]\n",
    "    for step in range(steps): #Number of iteration stochastic gradient descent\n",
    "        P = P + alpha * ( 2* ((R - mask * (P @ Q.T)) @ Q)/len(R) - lamda * P)\n",
    "        Q = Q + alpha * ( 2 * ((R - mask * (P @ Q.T)).T @ P )/len(R)- lamda * Q)\n",
    "        cost.append(Ridge_Cost(R,P,Q,mask))    # Appending Cost\n",
    "    return P,Q,ite,cost"
   ]
  },
  {
   "cell_type": "code",
   "execution_count": 34,
   "metadata": {},
   "outputs": [],
   "source": [
    "# Function calculating parameters with stochastic gradient descent algorithm with INDEPENDENTLY INTERPRETABLE lASSO regularization\n",
    "def matrix_factorization_IILasso(R, P, Q, K, mask, steps=5000, alpha=0.002, beta=0.2,lamda=0.02):\n",
    "    ite=range(steps)\n",
    "    cost=[]\n",
    "    Movie_Sim=calculate_Similarity(R)  #Function for similarity matrix of movies\n",
    "    User_Sim=calculate_Similarity(R.T)  #Function for similarity matrix of users \n",
    "    for step in range(steps):# Number of iteration\n",
    "        P = P + alpha * ( 2* ((R - mask * (P @ Q.T)) @ Q)/len(R) - lamda  - (beta*(lamda/2)*IILasso_Term(P,Movie_Sim)) )\n",
    "        Q = Q + alpha * ( 2 * ((R - mask * (P @ Q.T)).T @ P )/len(R)- lamda  -  (beta*(lamda/2)*IILasso_Term(Q,User_Sim)))\n",
    "        cost.append(New_Lasso_Cost(R,P,Q,Movie_Sim,User_Sim,mask))    # Appending Cost\n",
    "    return P,Q,ite,cost\n",
    "    "
   ]
  },
  {
   "cell_type": "code",
   "execution_count": 44,
   "metadata": {},
   "outputs": [],
   "source": [
    "# Function calculating parameters with stochastic gradient descent algorithm with UNCORRELATED lASSO regularization\n",
    "\n",
    "def matrix_factorization_ULasso(R, P, Q, K,mask, steps=5000, alpha=0.002, beta=0.2,lamda=0.02):\n",
    "    ite=range(steps)\n",
    "    cost=[]\n",
    "    X1=calculate_Similarity(R)\n",
    "    Movie_Sim=X1*X1         #Part of ULasso\n",
    "    X2=calculate_Similarity(R.T)\n",
    "    User_Sim=X2*X2         #Part of Ulasso\n",
    "    for step in range(steps):\n",
    "        P = P + alpha * ( 2* ((R - mask * (P @ Q.T)) @ Q)/len(R) - lamda  - (beta*(lamda/2)*ULasso_Term(P,Movie_Sim)) )\n",
    "        Q = Q + alpha * ( 2 * ((R - mask * (P @ Q.T)).T @ P )/len(R)- lamda  -  (beta*(lamda/2)*ULasso_Term(Q,User_Sim)))\n",
    "        cost.append(New_Lasso_Cost(R,P,Q,Movie_Sim,User_Sim,mask))    #Appending Cost\n",
    "    return P,Q,ite,cost\n",
    "    "
   ]
  },
  {
   "cell_type": "code",
   "execution_count": 13,
   "metadata": {},
   "outputs": [],
   "source": [
    "# Function to calculate Squared error\n",
    "def error(nR,R):\n",
    "    x=0\n",
    "    for i in range(len(R)):\n",
    "        for j in range(len(R[i])):\n",
    "            if R[i][j] > 0:\n",
    "                y=R[i][j]-nR[i][j]\n",
    "                x+=y*y\n",
    "                \n",
    "    return math.sqrt(x/len(R))"
   ]
  },
  {
   "cell_type": "code",
   "execution_count": 84,
   "metadata": {},
   "outputs": [
    {
     "name": "stdout",
     "output_type": "stream",
     "text": [
      "(610, 138)\n",
      "(610, 138)\n",
      "(138, 610)\n"
     ]
    }
   ],
   "source": [
    "#Input Matrix of dimension M * N where M represents number of Movies and N represents number of Users\n",
    "R = [\n",
    "     [5,3,0,1],\n",
    "     [4,0,0,1],\n",
    "     [1,1,0,5],\n",
    "     [1,0,0,4],\n",
    "     [0,1,5,4],\n",
    "    ]\n",
    "'''R = [\n",
    "     [0,4.5,2,0],\n",
    "     [4,0,3.5,0],\n",
    "     [0,5,0,2],\n",
    "     [0,3.5,4,1],\n",
    "    ]\n",
    "'''\n",
    "\n",
    "ratings=pd.read_csv(\"ratings.csv\")\n",
    "movies=pd.read_csv(\"movies.csv\")\n",
    "ratings=pd.merge(movies,ratings).drop(['genres','timestamp'],axis=1)\n",
    "userRatings = ratings.pivot_table(index=['userId'],columns=['title'],values='rating')\n",
    "userRatings = userRatings.dropna(thresh=100, axis=1).fillna(0,axis=1)\n",
    "R = np.array(userRatings)  #Converting into numpy array\n",
    "print(R.shape)\n",
    "#R=R[0:100]\n",
    "print(R.shape)\n",
    "R=R.T\n",
    "print(R.shape)\n",
    "\n",
    "\n",
    "R = np.array(R)\n",
    "M,N=R.shape         # Finding shape of R\n",
    "K = 2               # Number of Features of movies and users\n",
    "mask=np.zeros((R.shape))\n",
    "for i in range(R.shape[0]):\n",
    "    for j in range(R.shape[1]):\n",
    "        if(R[i,j]>0):\n",
    "            mask[i,j]=1\n",
    "P_init = np.random.randn(M,K)  # Initializing Movie's Feature Matrix\n",
    "Q_init = np.random.randn(N,K) # Initializing User's Feature Matrix"
   ]
  },
  {
   "cell_type": "code",
   "execution_count": 85,
   "metadata": {},
   "outputs": [
    {
     "name": "stdout",
     "output_type": "stream",
     "text": [
      "--------------------------------------Normal Lasso------------------------------------------------\n",
      "nR:  [[-0.13455029 -2.00788996 -0.25982805 ...  0.676435    0.68694743\n",
      "  -0.18191886]\n",
      " [ 0.24877612 -0.00300936  1.62847749 ...  1.56638364  1.46107074\n",
      "   0.9106032 ]\n",
      " [ 0.12221723  0.35120776  0.6910501  ...  0.50211762  0.45853176\n",
      "   0.39284643]\n",
      " ...\n",
      " [ 0.0371081   0.0715706   0.22065428 ...  0.17904089  0.16499673\n",
      "   0.12469704]\n",
      " [ 0.22661916  1.81786968  0.92087809 ...  0.04649214 -0.00736144\n",
      "   0.54811784]\n",
      " [ 0.16551539 -1.32183384  1.49127872 ...  2.04283777  1.9422659\n",
      "   0.80982716]]\n",
      "RME:  45.72308965096553\n",
      "-------------------------------------- RIDGE ------------------------------------------------\n",
      "nR:  [[-0.11323024 -2.02790747 -0.28536126 ...  0.69258484  0.68519562\n",
      "  -0.16384697]\n",
      " [ 0.23905883 -0.05308657  1.58133594 ...  1.54672935  1.44187115\n",
      "   0.88514782]\n",
      " [ 0.10761507  0.27859298  0.64354532 ...  0.48629419  0.44749743\n",
      "   0.36082904]\n",
      " ...\n",
      " [ 0.02983861  0.02409944  0.19043894 ...  0.17172901  0.1594948\n",
      "   0.10665921]\n",
      " [ 0.19160549  1.72691925  0.86784246 ...  0.01136819 -0.0235012\n",
      "   0.48932033]\n",
      " [ 0.17401937 -1.35245822  1.44780781 ...  2.03794653  1.92510499\n",
      "   0.80777133]]\n",
      "RME:  45.712247670119\n",
      "\n",
      "----------------------------------------ULASSO----------------------------------------------------\n",
      "\n",
      "nR:  [[-0.05492208 -1.45780048  0.0761004  ...  0.7574206   0.70721427\n",
      "  -0.0245972 ]\n",
      " [ 0.23274545 -0.11438754  1.56827488 ...  1.55576188  1.45670359\n",
      "   0.87212752]\n",
      " [ 0.07893966  0.01988963  0.51427272 ...  0.48321638  0.45252734\n",
      "   0.28863518]\n",
      " ...\n",
      " [ 0.04458371  0.1310387   0.25445108 ...  0.18217472  0.17077926\n",
      "   0.14839506]\n",
      " [ 0.15210794  1.30809387  0.60938633 ... -0.03058362 -0.02679231\n",
      "   0.4012063 ]\n",
      " [ 0.17968968 -1.22427002  1.55212731 ...  2.06145947  1.92868769\n",
      "   0.81195207]]\n",
      "RME:  45.630528212954424\n",
      "\n",
      "----------------------------------------IILASSO----------------------------------------------------\n",
      "\n",
      "nR:  [[ 3.65476351  9.39091165  7.50689333 ...  3.14320858  3.96574062\n",
      "   3.58122107]\n",
      " [ 3.63195738  9.41189675  8.19172602 ...  3.5646366   4.5577298\n",
      "   3.70602057]\n",
      " [ 5.1661324  13.14774757  9.44710801 ...  3.74130818  4.62444581\n",
      "   4.82805851]\n",
      " ...\n",
      " [ 2.87950996  7.33826994  5.35712739 ...  2.14047978  2.65469109\n",
      "   2.70947067]\n",
      " [ 4.5015381  11.3777428   7.50898982 ...  2.82431819  3.42028265\n",
      "   4.06159396]\n",
      " [ 3.96627209 10.32064727  9.33559914 ...  4.12774365  5.30585963\n",
      "   4.12555307]]\n",
      "RME:  24.277284056741905\n"
     ]
    }
   ],
   "source": [
    "\n",
    "Iter=[] #Initializing Iter List of List for all the model\n",
    "Cost=[] #Initializing Cost List of List for all the model\n",
    "print('--------------------------------------Normal Lasso------------------------------------------------')\n",
    "P=P_init.copy()\n",
    "Q=Q_init.copy()\n",
    "nP, nQ , ite, cost = matrix_factorization_Lasso(R, P, Q, K,mask,steps=200)\n",
    "nR = np.dot(nP, nQ.T)\n",
    "#print('nP: ',nP)\n",
    "#print('nQ: ',nQ)\n",
    "print('nR: ',nR)\n",
    "print('RME: ',error(nR,R))\n",
    "Iter.append(ite)\n",
    "Cost.append(cost)\n",
    "\n",
    "\n",
    "print('-------------------------------------- RIDGE ------------------------------------------------')\n",
    "P=P_init.copy()\n",
    "Q=Q_init.copy()\n",
    "nP, nQ , ite, cost = matrix_factorization_Ridge(R, P, Q, K,mask,steps=200)\n",
    "nR = np.dot(nP, nQ.T)\n",
    "#print('nP: ',nP)\n",
    "#print('nQ: ',nQ)\n",
    "print('nR: ',nR)\n",
    "print('RME: ',error(nR,R))\n",
    "Iter.append(ite)\n",
    "Cost.append(cost)\n",
    "\n",
    "print(\"\\n----------------------------------------ULASSO----------------------------------------------------\\n\")\n",
    "P=P_init.copy()\n",
    "Q=Q_init.copy()\n",
    "nP, nQ, ite, cost = matrix_factorization_ULasso(R, P, Q, K,mask,steps=200)\n",
    "nR = np.dot(nP, nQ.T)\n",
    "#print('nP: ',nP)\n",
    "#print('nQ: ',nQ)\n",
    "print('nR: ',nR)\n",
    "print('RME: ',error(nR,R))\n",
    "Iter.append(ite)\n",
    "Cost.append(cost)\n",
    "\n",
    "print(\"\\n----------------------------------------IILASSO----------------------------------------------------\\n\")\n",
    "P=P_init.copy()\n",
    "Q=Q_init.copy()\n",
    "nP, nQ, ite, cost = matrix_factorization_IILasso(R, P, Q, K,mask,steps=200)\n",
    "nR = np.dot(nP, nQ.T)\n",
    "#print('nP: ',nP)\n",
    "#print('nQ: ',nQ)\n",
    "print('nR: ',nR)\n",
    "print('RME: ',error(nR,R))\n",
    "Iter.append(ite)\n",
    "Cost.append(cost)"
   ]
  },
  {
   "cell_type": "code",
   "execution_count": 86,
   "metadata": {},
   "outputs": [
    {
     "data": {
      "image/png": "[encoded data removed]",
      "text/plain": [
       "<Figure size 432x288 with 1 Axes>"
      ]
     },
     "metadata": {
      "needs_background": "light"
     },
     "output_type": "display_data"
    }
   ],
   "source": [
    "#Visualization of Cost vs Iteration of All the Model\n",
    "\n",
    "Label=['Normal Lasso' ,'Ridge','ULasso','IILasso']\n",
    "plt.xlabel('Iteration')\n",
    "plt.ylabel('Cost')\n",
    "plt.title('Cost Vs Iteration of all Model')\n",
    "for i in range(4):\n",
    "    plt.plot(Iter[i],Cost[i],label=Label[i])\n",
    "    plt.legend()\n",
    "plt.show()"
   ]
  },
  {
   "cell_type": "code",
   "execution_count": 88,
   "metadata": {},
   "outputs": [
    {
     "name": "stdout",
     "output_type": "stream",
     "text": [
      "2090.75855307716 2089.788376938844 2101.1843861974958 880.16748542179\n"
     ]
    }
   ],
   "source": [
    "print(Cost[0][199],Cost[1][199],Cost[2][199],Cost[3][199])"
   ]
  }
 ],
 "metadata": {
  "kernelspec": {
   "display_name": "Python 3",
   "language": "python",
   "name": "python3"
  },
  "language_info": {
   "codemirror_mode": {
    "name": "ipython",
    "version": 3
   },
   "file_extension": ".py",
   "mimetype": "text/x-python",
   "name": "python",
   "nbconvert_exporter": "python",
   "pygments_lexer": "ipython3",
   "version": "3.7.7"
  }
 },
 "nbformat": 4,
 "nbformat_minor": 2
}
